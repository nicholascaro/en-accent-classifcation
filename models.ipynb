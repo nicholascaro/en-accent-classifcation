{
 "cells": [
  {
   "cell_type": "code",
   "execution_count": 37,
   "metadata": {},
   "outputs": [],
   "source": [
    "import pandas as pd\n",
    "import numpy as np\n",
    "from warnings import simplefilter\n",
    "simplefilter(action='ignore', category=FutureWarning)\n",
    "from sklearn.metrics import classification_report, confusion_matrix\n",
    "from sklearn.model_selection import KFold \n",
    "from sklearn.model_selection import train_test_split\n",
    "from sklearn.preprocessing import StandardScaler\n",
    "import matplotlib.pyplot as plt"
   ]
  },
  {
   "attachments": {},
   "cell_type": "markdown",
   "metadata": {},
   "source": [
    "Grab data from csv file"
   ]
  },
  {
   "cell_type": "code",
   "execution_count": 4,
   "metadata": {},
   "outputs": [],
   "source": [
    "sheet = pd.read_csv('./preprocessed_data.csv')"
   ]
  },
  {
   "cell_type": "code",
   "execution_count": 5,
   "metadata": {},
   "outputs": [
    {
     "data": {
      "text/html": [
       "<div>\n",
       "<style scoped>\n",
       "    .dataframe tbody tr th:only-of-type {\n",
       "        vertical-align: middle;\n",
       "    }\n",
       "\n",
       "    .dataframe tbody tr th {\n",
       "        vertical-align: top;\n",
       "    }\n",
       "\n",
       "    .dataframe thead th {\n",
       "        text-align: right;\n",
       "    }\n",
       "</style>\n",
       "<table border=\"1\" class=\"dataframe\">\n",
       "  <thead>\n",
       "    <tr style=\"text-align: right;\">\n",
       "      <th></th>\n",
       "      <th>0</th>\n",
       "      <th>1</th>\n",
       "      <th>2</th>\n",
       "      <th>3</th>\n",
       "      <th>4</th>\n",
       "      <th>5</th>\n",
       "      <th>6</th>\n",
       "      <th>7</th>\n",
       "      <th>8</th>\n",
       "      <th>9</th>\n",
       "      <th>...</th>\n",
       "      <th>5151</th>\n",
       "      <th>5152</th>\n",
       "      <th>5153</th>\n",
       "      <th>5154</th>\n",
       "      <th>5155</th>\n",
       "      <th>5156</th>\n",
       "      <th>5157</th>\n",
       "      <th>5158</th>\n",
       "      <th>5159</th>\n",
       "      <th>class</th>\n",
       "    </tr>\n",
       "  </thead>\n",
       "  <tbody>\n",
       "    <tr>\n",
       "      <th>0</th>\n",
       "      <td>-60.876125</td>\n",
       "      <td>-60.876125</td>\n",
       "      <td>-60.876125</td>\n",
       "      <td>-60.876125</td>\n",
       "      <td>-60.876125</td>\n",
       "      <td>-60.876125</td>\n",
       "      <td>-60.876125</td>\n",
       "      <td>-60.876125</td>\n",
       "      <td>-60.876125</td>\n",
       "      <td>-60.876125</td>\n",
       "      <td>...</td>\n",
       "      <td>5.140539</td>\n",
       "      <td>3.180239</td>\n",
       "      <td>-1.843062</td>\n",
       "      <td>-14.799632</td>\n",
       "      <td>1.048248</td>\n",
       "      <td>2.937207</td>\n",
       "      <td>-60.876125</td>\n",
       "      <td>3.098228</td>\n",
       "      <td>4.940719</td>\n",
       "      <td>0</td>\n",
       "    </tr>\n",
       "    <tr>\n",
       "      <th>1</th>\n",
       "      <td>-60.718200</td>\n",
       "      <td>-60.718200</td>\n",
       "      <td>-60.718200</td>\n",
       "      <td>-60.718200</td>\n",
       "      <td>-60.718200</td>\n",
       "      <td>-60.718200</td>\n",
       "      <td>-60.718200</td>\n",
       "      <td>-60.718200</td>\n",
       "      <td>-60.718200</td>\n",
       "      <td>-60.718200</td>\n",
       "      <td>...</td>\n",
       "      <td>-60.718200</td>\n",
       "      <td>-60.718200</td>\n",
       "      <td>-60.718200</td>\n",
       "      <td>-2.394113</td>\n",
       "      <td>-60.718200</td>\n",
       "      <td>-4.563484</td>\n",
       "      <td>-60.718200</td>\n",
       "      <td>-60.718200</td>\n",
       "      <td>-3.347412</td>\n",
       "      <td>0</td>\n",
       "    </tr>\n",
       "    <tr>\n",
       "      <th>2</th>\n",
       "      <td>-61.212837</td>\n",
       "      <td>-61.212837</td>\n",
       "      <td>-61.212837</td>\n",
       "      <td>-61.212837</td>\n",
       "      <td>-61.212837</td>\n",
       "      <td>-61.212837</td>\n",
       "      <td>-61.212837</td>\n",
       "      <td>-61.212837</td>\n",
       "      <td>-61.212837</td>\n",
       "      <td>-61.212837</td>\n",
       "      <td>...</td>\n",
       "      <td>-39.487180</td>\n",
       "      <td>-39.487180</td>\n",
       "      <td>-39.487180</td>\n",
       "      <td>-39.487180</td>\n",
       "      <td>-39.487180</td>\n",
       "      <td>-39.487180</td>\n",
       "      <td>-39.487180</td>\n",
       "      <td>-39.487180</td>\n",
       "      <td>-39.487180</td>\n",
       "      <td>0</td>\n",
       "    </tr>\n",
       "    <tr>\n",
       "      <th>3</th>\n",
       "      <td>-61.600650</td>\n",
       "      <td>-61.600650</td>\n",
       "      <td>-61.600650</td>\n",
       "      <td>-61.600650</td>\n",
       "      <td>-61.600650</td>\n",
       "      <td>-61.600650</td>\n",
       "      <td>-61.600650</td>\n",
       "      <td>-61.600650</td>\n",
       "      <td>-61.600650</td>\n",
       "      <td>-61.600650</td>\n",
       "      <td>...</td>\n",
       "      <td>-39.952940</td>\n",
       "      <td>-39.952940</td>\n",
       "      <td>-39.952940</td>\n",
       "      <td>-39.952940</td>\n",
       "      <td>-39.952940</td>\n",
       "      <td>-39.952940</td>\n",
       "      <td>-39.952940</td>\n",
       "      <td>-39.952940</td>\n",
       "      <td>-39.952940</td>\n",
       "      <td>0</td>\n",
       "    </tr>\n",
       "    <tr>\n",
       "      <th>4</th>\n",
       "      <td>-61.072853</td>\n",
       "      <td>-61.072853</td>\n",
       "      <td>-61.072853</td>\n",
       "      <td>-61.072853</td>\n",
       "      <td>-61.072853</td>\n",
       "      <td>-61.072853</td>\n",
       "      <td>-61.072853</td>\n",
       "      <td>-61.072853</td>\n",
       "      <td>-61.072853</td>\n",
       "      <td>-61.072853</td>\n",
       "      <td>...</td>\n",
       "      <td>-5.162120</td>\n",
       "      <td>-18.417093</td>\n",
       "      <td>0.573289</td>\n",
       "      <td>2.564047</td>\n",
       "      <td>3.433276</td>\n",
       "      <td>-3.935794</td>\n",
       "      <td>-8.080255</td>\n",
       "      <td>-61.072853</td>\n",
       "      <td>-39.713818</td>\n",
       "      <td>0</td>\n",
       "    </tr>\n",
       "  </tbody>\n",
       "</table>\n",
       "<p>5 rows × 5161 columns</p>\n",
       "</div>"
      ],
      "text/plain": [
       "           0          1          2          3          4          5  \\\n",
       "0 -60.876125 -60.876125 -60.876125 -60.876125 -60.876125 -60.876125   \n",
       "1 -60.718200 -60.718200 -60.718200 -60.718200 -60.718200 -60.718200   \n",
       "2 -61.212837 -61.212837 -61.212837 -61.212837 -61.212837 -61.212837   \n",
       "3 -61.600650 -61.600650 -61.600650 -61.600650 -61.600650 -61.600650   \n",
       "4 -61.072853 -61.072853 -61.072853 -61.072853 -61.072853 -61.072853   \n",
       "\n",
       "           6          7          8          9  ...       5151       5152  \\\n",
       "0 -60.876125 -60.876125 -60.876125 -60.876125  ...   5.140539   3.180239   \n",
       "1 -60.718200 -60.718200 -60.718200 -60.718200  ... -60.718200 -60.718200   \n",
       "2 -61.212837 -61.212837 -61.212837 -61.212837  ... -39.487180 -39.487180   \n",
       "3 -61.600650 -61.600650 -61.600650 -61.600650  ... -39.952940 -39.952940   \n",
       "4 -61.072853 -61.072853 -61.072853 -61.072853  ...  -5.162120 -18.417093   \n",
       "\n",
       "        5153       5154       5155       5156       5157       5158  \\\n",
       "0  -1.843062 -14.799632   1.048248   2.937207 -60.876125   3.098228   \n",
       "1 -60.718200  -2.394113 -60.718200  -4.563484 -60.718200 -60.718200   \n",
       "2 -39.487180 -39.487180 -39.487180 -39.487180 -39.487180 -39.487180   \n",
       "3 -39.952940 -39.952940 -39.952940 -39.952940 -39.952940 -39.952940   \n",
       "4   0.573289   2.564047   3.433276  -3.935794  -8.080255 -61.072853   \n",
       "\n",
       "        5159  class  \n",
       "0   4.940719      0  \n",
       "1  -3.347412      0  \n",
       "2 -39.487180      0  \n",
       "3 -39.952940      0  \n",
       "4 -39.713818      0  \n",
       "\n",
       "[5 rows x 5161 columns]"
      ]
     },
     "execution_count": 5,
     "metadata": {},
     "output_type": "execute_result"
    }
   ],
   "source": [
    "sheet.head()"
   ]
  },
  {
   "attachments": {},
   "cell_type": "markdown",
   "metadata": {},
   "source": [
    "Train-Test Split"
   ]
  },
  {
   "cell_type": "code",
   "execution_count": 12,
   "metadata": {},
   "outputs": [],
   "source": [
    "X_full = sheet.iloc[:, :-1]\n",
    "Y_full = sheet.iloc[:,-1:].values"
   ]
  },
  {
   "cell_type": "code",
   "execution_count": 14,
   "metadata": {},
   "outputs": [
    {
     "data": {
      "text/plain": [
       "(6678, 5160)"
      ]
     },
     "execution_count": 14,
     "metadata": {},
     "output_type": "execute_result"
    }
   ],
   "source": [
    "X_full.shape"
   ]
  },
  {
   "cell_type": "code",
   "execution_count": 13,
   "metadata": {},
   "outputs": [
    {
     "data": {
      "text/plain": [
       "(6678, 1)"
      ]
     },
     "execution_count": 13,
     "metadata": {},
     "output_type": "execute_result"
    }
   ],
   "source": [
    "Y_full.shape"
   ]
  },
  {
   "attachments": {},
   "cell_type": "markdown",
   "metadata": {},
   "source": [
    "#### Dimensionality Reduction"
   ]
  },
  {
   "attachments": {},
   "cell_type": "markdown",
   "metadata": {},
   "source": [
    "##### PCA"
   ]
  },
  {
   "cell_type": "code",
   "execution_count": 26,
   "metadata": {},
   "outputs": [],
   "source": [
    "from sklearn.decomposition import PCA"
   ]
  },
  {
   "cell_type": "code",
   "execution_count": 27,
   "metadata": {},
   "outputs": [],
   "source": [
    "pca = PCA(n_components=0.95)\n",
    "X_full_pca = pca.fit_transform(X_full)"
   ]
  },
  {
   "cell_type": "code",
   "execution_count": 28,
   "metadata": {},
   "outputs": [],
   "source": [
    "X_train, X_test, Y_train, Y_test = train_test_split(X_full_pca, Y_full, test_size=0.15, random_state=42)"
   ]
  },
  {
   "cell_type": "code",
   "execution_count": 29,
   "metadata": {},
   "outputs": [
    {
     "name": "stdout",
     "output_type": "stream",
     "text": [
      "X_train:  (5676, 2669)\n",
      "X_test:  (1002, 2669)\n",
      "Y_train:  (5676, 1)\n",
      "Y_test:  (1002, 1)\n"
     ]
    }
   ],
   "source": [
    "print('X_train: ', X_train.shape)\n",
    "print('X_test: ', X_test.shape)\n",
    "print('Y_train: ', Y_train.shape)\n",
    "print('Y_test: ', Y_test.shape)"
   ]
  },
  {
   "attachments": {},
   "cell_type": "markdown",
   "metadata": {},
   "source": [
    "### K-Nearest Neighbor (KNN)"
   ]
  },
  {
   "cell_type": "code",
   "execution_count": 17,
   "metadata": {},
   "outputs": [],
   "source": [
    "from sklearn.neighbors import KNeighborsClassifier"
   ]
  },
  {
   "attachments": {},
   "cell_type": "markdown",
   "metadata": {},
   "source": [
    "#### 1-NN"
   ]
  },
  {
   "cell_type": "code",
   "execution_count": 30,
   "metadata": {},
   "outputs": [
    {
     "name": "stderr",
     "output_type": "stream",
     "text": [
      "/Users/nicholascaro/opt/anaconda3/envs/hello-tf/lib/python3.8/site-packages/sklearn/neighbors/_classification.py:215: DataConversionWarning: A column-vector y was passed when a 1d array was expected. Please change the shape of y to (n_samples,), for example using ravel().\n",
      "  return self._fit(X, y)\n"
     ]
    },
    {
     "data": {
      "text/html": [
       "<style>#sk-container-id-4 {color: black;background-color: white;}#sk-container-id-4 pre{padding: 0;}#sk-container-id-4 div.sk-toggleable {background-color: white;}#sk-container-id-4 label.sk-toggleable__label {cursor: pointer;display: block;width: 100%;margin-bottom: 0;padding: 0.3em;box-sizing: border-box;text-align: center;}#sk-container-id-4 label.sk-toggleable__label-arrow:before {content: \"▸\";float: left;margin-right: 0.25em;color: #696969;}#sk-container-id-4 label.sk-toggleable__label-arrow:hover:before {color: black;}#sk-container-id-4 div.sk-estimator:hover label.sk-toggleable__label-arrow:before {color: black;}#sk-container-id-4 div.sk-toggleable__content {max-height: 0;max-width: 0;overflow: hidden;text-align: left;background-color: #f0f8ff;}#sk-container-id-4 div.sk-toggleable__content pre {margin: 0.2em;color: black;border-radius: 0.25em;background-color: #f0f8ff;}#sk-container-id-4 input.sk-toggleable__control:checked~div.sk-toggleable__content {max-height: 200px;max-width: 100%;overflow: auto;}#sk-container-id-4 input.sk-toggleable__control:checked~label.sk-toggleable__label-arrow:before {content: \"▾\";}#sk-container-id-4 div.sk-estimator input.sk-toggleable__control:checked~label.sk-toggleable__label {background-color: #d4ebff;}#sk-container-id-4 div.sk-label input.sk-toggleable__control:checked~label.sk-toggleable__label {background-color: #d4ebff;}#sk-container-id-4 input.sk-hidden--visually {border: 0;clip: rect(1px 1px 1px 1px);clip: rect(1px, 1px, 1px, 1px);height: 1px;margin: -1px;overflow: hidden;padding: 0;position: absolute;width: 1px;}#sk-container-id-4 div.sk-estimator {font-family: monospace;background-color: #f0f8ff;border: 1px dotted black;border-radius: 0.25em;box-sizing: border-box;margin-bottom: 0.5em;}#sk-container-id-4 div.sk-estimator:hover {background-color: #d4ebff;}#sk-container-id-4 div.sk-parallel-item::after {content: \"\";width: 100%;border-bottom: 1px solid gray;flex-grow: 1;}#sk-container-id-4 div.sk-label:hover label.sk-toggleable__label {background-color: #d4ebff;}#sk-container-id-4 div.sk-serial::before {content: \"\";position: absolute;border-left: 1px solid gray;box-sizing: border-box;top: 0;bottom: 0;left: 50%;z-index: 0;}#sk-container-id-4 div.sk-serial {display: flex;flex-direction: column;align-items: center;background-color: white;padding-right: 0.2em;padding-left: 0.2em;position: relative;}#sk-container-id-4 div.sk-item {position: relative;z-index: 1;}#sk-container-id-4 div.sk-parallel {display: flex;align-items: stretch;justify-content: center;background-color: white;position: relative;}#sk-container-id-4 div.sk-item::before, #sk-container-id-4 div.sk-parallel-item::before {content: \"\";position: absolute;border-left: 1px solid gray;box-sizing: border-box;top: 0;bottom: 0;left: 50%;z-index: -1;}#sk-container-id-4 div.sk-parallel-item {display: flex;flex-direction: column;z-index: 1;position: relative;background-color: white;}#sk-container-id-4 div.sk-parallel-item:first-child::after {align-self: flex-end;width: 50%;}#sk-container-id-4 div.sk-parallel-item:last-child::after {align-self: flex-start;width: 50%;}#sk-container-id-4 div.sk-parallel-item:only-child::after {width: 0;}#sk-container-id-4 div.sk-dashed-wrapped {border: 1px dashed gray;margin: 0 0.4em 0.5em 0.4em;box-sizing: border-box;padding-bottom: 0.4em;background-color: white;}#sk-container-id-4 div.sk-label label {font-family: monospace;font-weight: bold;display: inline-block;line-height: 1.2em;}#sk-container-id-4 div.sk-label-container {text-align: center;}#sk-container-id-4 div.sk-container {/* jupyter's `normalize.less` sets `[hidden] { display: none; }` but bootstrap.min.css set `[hidden] { display: none !important; }` so we also need the `!important` here to be able to override the default hidden behavior on the sphinx rendered scikit-learn.org. See: https://github.com/scikit-learn/scikit-learn/issues/21755 */display: inline-block !important;position: relative;}#sk-container-id-4 div.sk-text-repr-fallback {display: none;}</style><div id=\"sk-container-id-4\" class=\"sk-top-container\"><div class=\"sk-text-repr-fallback\"><pre>KNeighborsClassifier(metric=&#x27;euclidean&#x27;, n_neighbors=1)</pre><b>In a Jupyter environment, please rerun this cell to show the HTML representation or trust the notebook. <br />On GitHub, the HTML representation is unable to render, please try loading this page with nbviewer.org.</b></div><div class=\"sk-container\" hidden><div class=\"sk-item\"><div class=\"sk-estimator sk-toggleable\"><input class=\"sk-toggleable__control sk-hidden--visually\" id=\"sk-estimator-id-4\" type=\"checkbox\" checked><label for=\"sk-estimator-id-4\" class=\"sk-toggleable__label sk-toggleable__label-arrow\">KNeighborsClassifier</label><div class=\"sk-toggleable__content\"><pre>KNeighborsClassifier(metric=&#x27;euclidean&#x27;, n_neighbors=1)</pre></div></div></div></div></div>"
      ],
      "text/plain": [
       "KNeighborsClassifier(metric='euclidean', n_neighbors=1)"
      ]
     },
     "execution_count": 30,
     "metadata": {},
     "output_type": "execute_result"
    }
   ],
   "source": [
    "knn = KNeighborsClassifier(n_neighbors=1, metric=\"euclidean\")\n",
    "knn.fit(X_train, Y_train) "
   ]
  },
  {
   "cell_type": "code",
   "execution_count": 31,
   "metadata": {},
   "outputs": [],
   "source": [
    "Y_predict = knn.predict(X_test)"
   ]
  },
  {
   "attachments": {},
   "cell_type": "markdown",
   "metadata": {},
   "source": [
    "Classification Report and Confusion Matrix for 1-NN"
   ]
  },
  {
   "cell_type": "code",
   "execution_count": 34,
   "metadata": {},
   "outputs": [
    {
     "name": "stdout",
     "output_type": "stream",
     "text": [
      "              precision    recall  f1-score   support\n",
      "\n",
      "      indian       0.66      0.96      0.78       122\n",
      "   malayalam       0.85      0.73      0.78       100\n",
      "  australian       0.85      0.82      0.84       106\n",
      "       odiya       0.88      0.96      0.92       118\n",
      "       welsh       0.94      0.92      0.93       115\n",
      "      telugu       0.96      0.80      0.87       111\n",
      "      bangla       0.87      1.00      0.93       123\n",
      "     british       0.81      0.78      0.79       118\n",
      "    american       0.85      0.44      0.58        89\n",
      "\n",
      "    accuracy                           0.84      1002\n",
      "   macro avg       0.85      0.82      0.82      1002\n",
      "weighted avg       0.85      0.84      0.83      1002\n",
      "\n",
      "[[117   0   2   0   1   0   0   2   0]\n",
      " [  2  73   0   9   0   4  12   0   0]\n",
      " [  8   0  87   0   2   0   0   5   4]\n",
      " [  0   3   0 113   0   0   2   0   0]\n",
      " [  3   0   4   0 106   0   0   1   1]\n",
      " [  2  10   0   5   0  89   5   0   0]\n",
      " [  0   0   0   0   0   0 123   0   0]\n",
      " [ 22   0   1   0   1   0   0  92   2]\n",
      " [ 24   0   8   1   3   0   0  14  39]]\n"
     ]
    }
   ],
   "source": [
    "target_names = ['indian', 'malayalam', 'australian', 'odiya', 'welsh', 'telugu', 'bangla', 'british', 'american']\n",
    "print(classification_report(Y_test, Y_predict, target_names=target_names))\n",
    "print(confusion_matrix(Y_test, Y_predict))"
   ]
  },
  {
   "attachments": {},
   "cell_type": "markdown",
   "metadata": {},
   "source": [
    "#### KNN with different K Values"
   ]
  },
  {
   "cell_type": "code",
   "execution_count": null,
   "metadata": {},
   "outputs": [],
   "source": [
    "accuracy_list = list()\n",
    "for k in range(1,40):\n",
    "    knn = KNeighborsClassifier(n_neighbors=k, metric=\"euclidean\")\n",
    "    knn.fit(X_train, Y_train)   \n",
    "    accuracy_list.append((knn.score(X_test, Y_test)*100))\n",
    "\n"
   ]
  },
  {
   "cell_type": "code",
   "execution_count": 47,
   "metadata": {},
   "outputs": [
    {
     "data": {
      "text/plain": [
       "Text(0, 0.5, 'Accuracy Rate')"
      ]
     },
     "execution_count": 47,
     "metadata": {},
     "output_type": "execute_result"
    },
    {
     "data": {
      "image/png": "[encoded data removed]",
      "text/plain": [
       "<Figure size 1000x600 with 1 Axes>"
      ]
     },
     "metadata": {},
     "output_type": "display_data"
    }
   ],
   "source": [
    "plt.figure(figsize=(10,6))\n",
    "plt.plot(range(1,40),accuracy_list)\n",
    "plt.title('Accuracy Rate v. K ')\n",
    "plt.xlabel('K')\n",
    "plt.ylabel('Accuracy Rate')"
   ]
  }
 ],
 "metadata": {
  "kernelspec": {
   "display_name": "hello-tf",
   "language": "python",
   "name": "python3"
  },
  "language_info": {
   "codemirror_mode": {
    "name": "ipython",
    "version": 3
   },
   "file_extension": ".py",
   "mimetype": "text/x-python",
   "name": "python",
   "nbconvert_exporter": "python",
   "pygments_lexer": "ipython3",
   "version": "3.8.16"
  },
  "orig_nbformat": 4
 },
 "nbformat": 4,
 "nbformat_minor": 2
}
